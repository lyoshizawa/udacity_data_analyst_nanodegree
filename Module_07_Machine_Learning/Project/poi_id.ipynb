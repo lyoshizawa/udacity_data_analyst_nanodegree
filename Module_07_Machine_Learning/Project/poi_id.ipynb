{
 "cells": [
  {
   "cell_type": "code",
   "execution_count": 1,
   "metadata": {},
   "outputs": [
    {
     "name": "stderr",
     "output_type": "stream",
     "text": [
      "C:\\Users\\admin\\Anaconda3\\envs\\py27\\lib\\site-packages\\sklearn\\cross_validation.py:44: DeprecationWarning: This module was deprecated in version 0.18 in favor of the model_selection module into which all the refactored classes and functions are moved. Also note that the interface of the new CV iterators are different from that of this module. This module will be removed in 0.20.\n",
      "  \"This module will be removed in 0.20.\", DeprecationWarning)\n"
     ]
    }
   ],
   "source": [
    "#!/usr/bin/python\n",
    "\n",
    "import sys\n",
    "import pickle\n",
    "sys.path.append(\"../tools/\")\n",
    "import numpy as np\n",
    "\n",
    "from feature_format import featureFormat, targetFeatureSplit\n",
    "from tester import dump_classifier_and_data, test_classifier\n",
    "\n",
    "import matplotlib.pyplot\n",
    "from sklearn.preprocessing import StandardScaler, MinMaxScaler\n",
    "from sklearn.naive_bayes import GaussianNB\n",
    "from sklearn.svm import SVC\n",
    "from sklearn.linear_model import RidgeClassifier, LogisticRegression\n",
    "from sklearn.cluster import KMeans\n",
    "from sklearn.cross_validation import train_test_split, StratifiedKFold\n",
    "from sklearn.metrics import accuracy_score, recall_score, precision_score, f1_score\n",
    "from sklearn.feature_selection import SelectKBest, f_classif\n",
    "from sklearn.model_selection import GridSearchCV, cross_val_predict\n",
    "from sklearn.tree import DecisionTreeClassifier\n",
    "from sklearn.ensemble import AdaBoostClassifier\n",
    "\n",
    "### Task 1: Select what features you'll use.\n",
    "### features_list is a list of strings, each of which is a feature name.\n",
    "### The first feature must be \"poi\".\n",
    "financial_features = ['salary', 'deferral_payments', 'total_payments', 'loan_advances', \n",
    "                      'bonus', 'restricted_stock_deferred', 'deferred_income', \n",
    "                      'total_stock_value', 'expenses', 'exercised_stock_options', \n",
    "                      'other', 'long_term_incentive', 'restricted_stock', 'director_fees']\n",
    "email_features = ['to_messages', 'from_poi_to_this_person',\n",
    "                  'from_messages', 'from_this_person_to_poi', 'shared_receipt_with_poi']\n",
    "poi_label =['poi']\n",
    "features_list = poi_label + financial_features + email_features\n",
    "\n",
    "### Load the dictionary containing the dataset\n",
    "with open(\"final_project_dataset.pkl\", \"r\") as data_file:\n",
    "    data_dict = pickle.load(data_file)\n"
   ]
  },
  {
   "cell_type": "code",
   "execution_count": 2,
   "metadata": {},
   "outputs": [
    {
     "name": "stdout",
     "output_type": "stream",
     "text": [
      "Number of people in dataset: 146\n",
      "Number of Persons of Interest ('POI'): 18 \n",
      "% of Persons who are POIs: 12.328767%\n",
      "Number of Features in Dataset: 21 \n",
      "\n",
      "Top 5 features with missing values: \n",
      "loan_advances: 142\n",
      "director_fees: 129\n",
      "restricted_stock_deferred: 128\n",
      "deferral_payments: 107\n",
      "deferred_income: 97\n"
     ]
    }
   ],
   "source": [
    "# Dataset Exploration\n",
    "## Find total number of people\n",
    "print (\"Number of people in dataset: %i\" % len(data_dict))\n",
    "\n",
    "## Find number / percentage of persons of interest\n",
    "poi_count = 0\n",
    "for name in data_dict:\n",
    "    if data_dict[name]['poi'] == 1:\n",
    "        poi_count += 1\n",
    "print (\"Number of Persons of Interest ('POI'): %i \" % poi_count)\n",
    "print (\"%% of Persons who are POIs: %f%%\" % ((float(poi_count)/len(data_dict))*100))\n",
    "\n",
    "## Find number of features in data_dict\n",
    "for name, data in data_dict.iteritems():\n",
    "    print (\"Number of Features in Dataset: %i \" % len(data))\n",
    "    break\n",
    "\n",
    "## Find the number of missing values for each feature\n",
    "NaN_count = {}\n",
    "for name, data in data_dict.iteritems():\n",
    "    for key, value in data.iteritems():\n",
    "        if value == 'NaN':\n",
    "            if key in NaN_count:\n",
    "                NaN_count[key] += 1\n",
    "            else:\n",
    "                NaN_count[key] = 1\n",
    "\n",
    "## Sort the list of missing values descending, and print out the top 5\n",
    "NaN_count = sorted(NaN_count.items(), key=lambda x:x[1], reverse=True)\n",
    "print (\"\\nTop 5 features with missing values: \")\n",
    "for i, data in enumerate(NaN_count):\n",
    "    if i < 5:\n",
    "        print \"%s: %i\" % (data[0], data[1])"
   ]
  },
  {
   "cell_type": "code",
   "execution_count": 3,
   "metadata": {},
   "outputs": [
    {
     "data": {
      "image/png": "[encoded data removed]",
      "text/plain": [
       "<matplotlib.figure.Figure at 0x4356828>"
      ]
     },
     "metadata": {},
     "output_type": "display_data"
    },
    {
     "name": "stdout",
     "output_type": "stream",
     "text": [
      "26704229 TOTAL\n",
      "Removing outlier: TOTAL\n"
     ]
    },
    {
     "data": {
      "image/png": "[encoded data removed]",
      "text/plain": [
       "<matplotlib.figure.Figure at 0x9ea05f8>"
      ]
     },
     "metadata": {},
     "output_type": "display_data"
    },
    {
     "name": "stdout",
     "output_type": "stream",
     "text": [
      "\n",
      "Top 5 persons with missing features:\n",
      "LOCKHART EUGENE E: 20\n",
      "WHALEY DAVID A: 18\n",
      "WROBEL BRUCE: 18\n",
      "THE TRAVEL AGENCY IN THE PARK: 18\n",
      "GRAMM WENDY L: 18\n",
      "\n",
      "Removing outlier: LOCKHART EUGENE E\n",
      "Removing outlier: THE TRAVEL AGENCY IN THE PARK\n"
     ]
    },
    {
     "data": {
      "text/plain": [
       "{'bonus': 'NaN',\n",
       " 'deferral_payments': 'NaN',\n",
       " 'deferred_income': 'NaN',\n",
       " 'director_fees': 'NaN',\n",
       " 'email_address': 'NaN',\n",
       " 'exercised_stock_options': 'NaN',\n",
       " 'expenses': 'NaN',\n",
       " 'from_messages': 'NaN',\n",
       " 'from_poi_to_this_person': 'NaN',\n",
       " 'from_this_person_to_poi': 'NaN',\n",
       " 'loan_advances': 'NaN',\n",
       " 'long_term_incentive': 'NaN',\n",
       " 'other': 362096,\n",
       " 'poi': False,\n",
       " 'restricted_stock': 'NaN',\n",
       " 'restricted_stock_deferred': 'NaN',\n",
       " 'salary': 'NaN',\n",
       " 'shared_receipt_with_poi': 'NaN',\n",
       " 'to_messages': 'NaN',\n",
       " 'total_payments': 362096,\n",
       " 'total_stock_value': 'NaN'}"
      ]
     },
     "execution_count": 3,
     "metadata": {},
     "output_type": "execute_result"
    }
   ],
   "source": [
    "### Task 2: Remove outliers\n",
    "# Identify Outliers\n",
    "## Create a function to identify outliers on a plot\n",
    "def outlier_id(data_dict, feature1, feature2):\n",
    "    features = [feature1, feature2]\n",
    "    data = featureFormat(data_dict, features)\n",
    "\n",
    "    for point in data:\n",
    "        x = point[0]\n",
    "        y = point[1]\n",
    "        matplotlib.pyplot.scatter( x, y )\n",
    "\n",
    "    matplotlib.pyplot.xlabel(feature1)\n",
    "    matplotlib.pyplot.ylabel(feature2)\n",
    "    matplotlib.pyplot.show()\n",
    "\n",
    "outlier_id(data_dict, \"salary\", \"exercised_stock_options\")\n",
    "\n",
    "## Identify the person with the min and max value for each feature.\n",
    "## Create a dictionary of dictionaries containing feature name, min/max values, and min/max names\n",
    "min_max_values = {}\n",
    "for name, data in data_dict.iteritems():\n",
    "    for feature, value in data.iteritems():\n",
    "        if value != 'NaN' and isinstance(value, (int, float)):\n",
    "            if feature in min_max_values:\n",
    "                if value > min_max_values[feature]['max_value']:\n",
    "                    min_max_values[feature]['max_value'] = value\n",
    "                    min_max_values[feature]['max_name'] = name\n",
    "                elif value < min_max_values[feature]['min_value']:\n",
    "                    min_max_values[feature]['min_value'] = value\n",
    "                    min_max_values[feature]['min_name'] = name\n",
    "            else:\n",
    "                #print feature, value, name\n",
    "                min_max_values[feature] = {}\n",
    "                min_max_values[feature]['min_name'] = name\n",
    "                min_max_values[feature]['min_value'] = value\n",
    "                min_max_values[feature]['max_name'] = name\n",
    "                min_max_values[feature]['max_value'] = value      \n",
    "                \n",
    "print min_max_values['salary']['max_value'], min_max_values['salary']['max_name']\n",
    "print ('Removing outlier: TOTAL')\n",
    "data_dict.pop('TOTAL')  # remove the outlier TOTAL from the dataset\n",
    "outlier_id(data_dict, \"salary\", \"exercised_stock_options\")\n",
    "\n",
    "# Identify users and the number of missing (NaN) values and print out the top 5\n",
    "person_NaN = {}\n",
    "for person, data in data_dict.iteritems():\n",
    "    for feature, value in data.iteritems():\n",
    "        if value == 'NaN':\n",
    "            if person in person_NaN:\n",
    "                person_NaN[person] += 1\n",
    "            else:\n",
    "                person_NaN[person] = 1\n",
    "person_NaN = sorted(person_NaN.items(), key=lambda x:x[1], reverse=True)\n",
    "print ('\\nTop 5 persons with missing features:')\n",
    "for i, data in enumerate(person_NaN):\n",
    "    if i < 5:\n",
    "        if data[1] > 10:\n",
    "            print (\"%s: %i\" % (data[0], data[1])) \n",
    "\n",
    "# Remove 'LOCKHART EUGENE E' from the dataset as all his data is 'NaN'\n",
    "# Remove 'THE TRAVEL AGENCY IN THE PARK' from the dataset as this is not a person.\n",
    "print ('\\nRemoving outlier: LOCKHART EUGENE E')\n",
    "print ('Removing outlier: THE TRAVEL AGENCY IN THE PARK')\n",
    "data_dict.pop('LOCKHART EUGENE E')\n",
    "data_dict.pop('THE TRAVEL AGENCY IN THE PARK')"
   ]
  },
  {
   "cell_type": "code",
   "execution_count": 4,
   "metadata": {
    "collapsed": true
   },
   "outputs": [],
   "source": [
    "### Task 3: Create new feature(s)\n",
    "### Store to my_dataset for easy export below.\n",
    "my_dataset = data_dict\n",
    "\n",
    "# Create feature: bonus_salary_ratio\n",
    "for person, data in my_dataset.items():\n",
    "    for feature, value in data.items():\n",
    "        if feature == 'bonus': bonus_value = value \n",
    "        if feature == 'salary': salary_value = value \n",
    "            \n",
    "    if bonus_value != 'NaN' and salary_value != 'NaN':\n",
    "        my_dataset[person]['bonus_salary_ratio'] = float(bonus_value) / salary_value\n",
    "    else:\n",
    "        my_dataset[person]['bonus_salary_ratio'] = 0\n",
    "\n",
    "# Create feature: emails_to_poi_ratio, emails_from_poi_ratio\n",
    "for person, data in my_dataset.items():\n",
    "    for feature, value in data.items():\n",
    "        if feature == 'to_messages': \n",
    "            recd_emails = value if value != 'NaN' else 0\n",
    "        if feature == 'from_messages': \n",
    "            sent_emails = value if value != 'NaN' else 0\n",
    "        if feature == 'from_poi_to_this_person': \n",
    "            poi_sent = value if value != 'NaN' else 0\n",
    "        if feature == 'from_this_person_to_poi': \n",
    "            poi_recd = value if value != 'NaN' else 0\n",
    "    \n",
    "    if sent_emails != 0:\n",
    "        my_dataset[person]['emails_to_poi_ratio'] = float(poi_recd) / sent_emails\n",
    "    else: \n",
    "        my_dataset[person]['emails_to_poi_ratio'] = 0\n",
    "    if recd_emails != 0:\n",
    "        my_dataset[person]['emails_from_poi_ratio'] = float(poi_sent) / recd_emails\n",
    "    else: my_dataset[person]['emails_from_poi_ratio'] = 0\n",
    "\n",
    "# Update features list\n",
    "features_list = features_list + ['bonus_salary_ratio', \n",
    "                                 'emails_to_poi_ratio', 'emails_from_poi_ratio']\n",
    "\n",
    "### Extract features and labels from dataset for local testing\n",
    "data = featureFormat(my_dataset, features_list, sort_keys = True)\n",
    "labels, features = targetFeatureSplit(data)"
   ]
  },
  {
   "cell_type": "code",
   "execution_count": 5,
   "metadata": {},
   "outputs": [
    {
     "name": "stdout",
     "output_type": "stream",
     "text": [
      "Features with their ANOVA F-values:\n",
      "exercised_stock_options: 24.8151\n",
      "total_stock_value: 24.1829\n",
      "bonus: 20.7923\n",
      "salary: 18.2897\n",
      "emails_to_poi_ratio: 16.4097\n",
      "deferred_income: 11.4585\n",
      "bonus_salary_ratio: 10.7836\n",
      "long_term_incentive: 9.9222\n",
      "restricted_stock: 9.2128\n",
      "total_payments: 8.7728\n",
      "shared_receipt_with_poi: 8.5894\n",
      "loan_advances: 7.1841\n",
      "expenses: 6.0942\n",
      "from_poi_to_this_person: 5.2434\n",
      "other: 4.1875\n",
      "emails_from_poi_ratio: 3.1281\n",
      "from_this_person_to_poi: 2.3826\n",
      "director_fees: 2.1263\n",
      "to_messages: 1.6463\n",
      "deferral_payments: 0.2246\n",
      "from_messages: 0.1697\n",
      "restricted_stock_deferred: 0.0655\n",
      "\n",
      "Selecting top 3 features...\n",
      "exercised_stock_options\n",
      "total_stock_value\n",
      "bonus\n"
     ]
    }
   ],
   "source": [
    "# Use SelectKBest to find the best features\n",
    "no_features = 3\n",
    "selector = SelectKBest(f_classif, k = no_features)\n",
    "selector.fit_transform(features, labels)\n",
    "\n",
    "# create an array with the features, scores, and bool value of if it is in the k best features\n",
    "kbest = zip(features_list[1:],selector.scores_, selector.get_support())    \n",
    "kbest = sorted(kbest, key=lambda x:x[1], reverse=True)\n",
    "\n",
    "# create a new feature list with only the poi_label + 10 best features\n",
    "new_feature_list = poi_label\n",
    "print (\"Features with their ANOVA F-values:\")\n",
    "for feature, score, boolean in kbest:\n",
    "    print (\"%s: %.04f\" % (feature, score))\n",
    "          \n",
    "print (\"\\nSelecting top %i features...\" % no_features)\n",
    "for feature, score, boolean in kbest:\n",
    "    if boolean == True:       \n",
    "        new_feature_list.append(feature)\n",
    "        print feature\n"
   ]
  },
  {
   "cell_type": "code",
   "execution_count": 6,
   "metadata": {
    "collapsed": true
   },
   "outputs": [],
   "source": [
    "### Re-extract features and labels from dataset for local testing\n",
    "data = featureFormat(my_dataset, new_feature_list, sort_keys = True)\n",
    "labels2, features2 = targetFeatureSplit(data)"
   ]
  },
  {
   "cell_type": "code",
   "execution_count": 7,
   "metadata": {},
   "outputs": [],
   "source": [
    "# Normalize the data using a MinMaxScaler.\n",
    "scaler = MinMaxScaler()\n",
    "features2 = scaler.fit_transform(features2)"
   ]
  },
  {
   "cell_type": "code",
   "execution_count": 8,
   "metadata": {},
   "outputs": [
    {
     "name": "stderr",
     "output_type": "stream",
     "text": [
      "C:\\Users\\admin\\Anaconda3\\envs\\py27\\lib\\site-packages\\sklearn\\metrics\\classification.py:1113: UndefinedMetricWarning: F-score is ill-defined and being set to 0.0 due to no predicted samples.\n",
      "  'precision', 'predicted', average, warn_for)\n"
     ]
    },
    {
     "name": "stdout",
     "output_type": "stream",
     "text": [
      "{'kernel': 'rbf', 'C': 51, 'gamma': 0.5}\n",
      "{'min_samples_split': 5, 'splitter': 'random', 'min_samples_leaf': 1}\n",
      "{'n_estimators': 45, 'learning_rate': 1.9, 'algorithm': 'SAMME.R'}\n",
      "{'penalty': 'l1', 'C': 1000000, 'tol': 0.1}\n"
     ]
    }
   ],
   "source": [
    "### Task 4: Try a varity of classifiers\n",
    "### Please name your classifier clf for easy export below.\n",
    "### Note that if you want to do PCA or other multi-stage operations,\n",
    "### you'll need to use Pipelines. For more info:\n",
    "### http://scikit-learn.org/stable/modules/pipeline.html\n",
    "\n",
    "clf_nb  =  GaussianNB()\n",
    "clf_svc =  SVC()\n",
    "clf_dt  =  DecisionTreeClassifier()\n",
    "clf_ab  =  AdaBoostClassifier()\n",
    "clf_lr  =  LogisticRegression()\n",
    "\n",
    "\n",
    "### Task 5: Tune your classifier to achieve better than .3 precision and recall \n",
    "### using our testing script. Check the tester.py script in the final project\n",
    "### folder for details on the evaluation method, especially the test_classifier\n",
    "### function. Because of the small size of the dataset, the script uses\n",
    "### stratified shuffle split cross validation. For more info: \n",
    "### http://scikit-learn.org/stable/modules/generated/sklearn.cross_validation.StratifiedShuffleSplit.html\n",
    "\n",
    "# optimize classifier parameters by using GridSearchCV\n",
    "param_svc = {'C':range(1,1000,50), \n",
    "             'kernel':('rbf', 'poly', 'linear'),\n",
    "             'gamma':(1, .75, .5, .25, .1, .075, .05, .001, .0001, .00001)}\n",
    "param_dt = {'min_samples_split': range(2,10,1), \n",
    "            'min_samples_leaf': range(1,10,1), \n",
    "            'splitter':('best', 'random')}\n",
    "param_ab = {'n_estimators': range(10,100,5), \n",
    "           'learning_rate': (1, 1.1, 1.2, 1.3, 1.4, 1.5, 1.6, 1.7, 1.8, 1.9, 2), \n",
    "           'algorithm':('SAMME', 'SAMME.R')}\n",
    "param_lr = {'C': (1000, 10000, 100000, 1000000), \n",
    "            'tol': (1, .1, .01, .001, .0001, .00001), \n",
    "            'penalty':('l1', 'l2')  }\n",
    "\n",
    "optimize_clf = [(clf_svc, param_svc), (clf_dt, param_dt), \n",
    "                (clf_ab, param_ab), (clf_lr, param_lr)]\n",
    "\n",
    "def optimize_classifier (clf, params):\n",
    "    grid = GridSearchCV(estimator=clf, param_grid=params, scoring='f1')\n",
    "    grid.fit(features2,labels2)\n",
    "    print grid.best_params_\n",
    "    \n",
    "for clf, params in optimize_clf:\n",
    "    optimize_classifier(clf, params)\n"
   ]
  },
  {
   "cell_type": "code",
   "execution_count": 9,
   "metadata": {},
   "outputs": [
    {
     "name": "stdout",
     "output_type": "stream",
     "text": [
      "Testing LogisticRegression...\n",
      "LogisticRegression(C=1000000, class_weight=None, dual=False,\n",
      "          fit_intercept=True, intercept_scaling=1, max_iter=100,\n",
      "          multi_class='ovr', n_jobs=1, penalty='l1', random_state=None,\n",
      "          solver='liblinear', tol=0.1, verbose=0, warm_start=False)\n",
      "\tAccuracy: 0.85962\tPrecision: 0.64274\tRecall: 0.19700\tF1: 0.30157\tF2: 0.22872\n",
      "\tTotal predictions: 13000\tTrue positives:  394\tFalse positives:  219\tFalse negatives: 1606\tTrue negatives: 10781\n",
      "\n",
      "Testing SVM...\n",
      "SVC(C=51, cache_size=200, class_weight=None, coef0=0.0,\n",
      "  decision_function_shape=None, degree=3, gamma=0.5, kernel='rbf',\n",
      "  max_iter=-1, probability=False, random_state=None, shrinking=True,\n",
      "  tol=0.001, verbose=False)\n",
      "\tAccuracy: 0.85438\tPrecision: 0.63683\tRecall: 0.12450\tF1: 0.20828\tF2: 0.14837\n",
      "\tTotal predictions: 13000\tTrue positives:  249\tFalse positives:  142\tFalse negatives: 1751\tTrue negatives: 10858\n",
      "\n",
      "Testing Naive Bayes...\n",
      "GaussianNB(priors=None)\n",
      "\tAccuracy: 0.84300\tPrecision: 0.48581\tRecall: 0.35100\tF1: 0.40755\tF2: 0.37163\n",
      "\tTotal predictions: 13000\tTrue positives:  702\tFalse positives:  743\tFalse negatives: 1298\tTrue negatives: 10257\n",
      "\n",
      "Testing AdaBoost...\n",
      "AdaBoostClassifier(algorithm='SAMME.R', base_estimator=None,\n",
      "          learning_rate=1.9, n_estimators=45, random_state=None)\n",
      "\tAccuracy: 0.81577\tPrecision: 0.38066\tRecall: 0.31500\tF1: 0.34473\tF2: 0.32626\n",
      "\tTotal predictions: 13000\tTrue positives:  630\tFalse positives: 1025\tFalse negatives: 1370\tTrue negatives: 9975\n",
      "\n",
      "Testing Decision Tree...\n",
      "DecisionTreeClassifier(class_weight=None, criterion='gini', max_depth=None,\n",
      "            max_features=None, max_leaf_nodes=None,\n",
      "            min_impurity_split=1e-07, min_samples_leaf=1,\n",
      "            min_samples_split=5, min_weight_fraction_leaf=0.0,\n",
      "            presort=False, random_state=None, splitter='random')\n",
      "\tAccuracy: 0.83515\tPrecision: 0.44792\tRecall: 0.30750\tF1: 0.36466\tF2: 0.32807\n",
      "\tTotal predictions: 13000\tTrue positives:  615\tFalse positives:  758\tFalse negatives: 1385\tTrue negatives: 10242\n",
      "\n"
     ]
    }
   ],
   "source": [
    "# Use the GridSearchCV results to optimize the paramaters for each classifier\n",
    "clf_svc =  SVC(C=51, gamma=0.5, kernel='rbf')\n",
    "clf_dt  =  DecisionTreeClassifier(min_samples_split=5, splitter='random', min_samples_leaf=1)\n",
    "clf_ab  =  AdaBoostClassifier(n_estimators=45, learning_rate=1.9, algorithm='SAMME.R')\n",
    "clf_lr  =  LogisticRegression(penalty='l1', C=1000000, tol=.1)\n",
    "\n",
    "clf_list = {'Naive Bayes': 'nb', 'SVM': 'svc', 'Decision Tree': 'dt',\n",
    "            'AdaBoost': 'ab','LogisticRegression': 'lr',}\n",
    "\n",
    "# Test out each classifier on the test_classifier function\n",
    "for name, classifier in clf_list.items():\n",
    "    print (\"Testing %s...\" % name)\n",
    "    clf = 'clf_'+classifier\n",
    "    test_classifier(eval(clf), my_dataset, new_feature_list)"
   ]
  },
  {
   "cell_type": "code",
   "execution_count": null,
   "metadata": {
    "collapsed": true
   },
   "outputs": [],
   "source": [
    "### Task 6: Dump your classifier, dataset, and features_list so anyone can\n",
    "### check your results. You do not need to change anything below, but make sure\n",
    "### that the version of poi_id.py that you submit can be run on its own and\n",
    "### generates the necessary .pkl files for validating your results.\n",
    "\n",
    "# Selecting Naive Bayes as the classifier\n",
    "clf = clf_nb\n",
    "\n",
    "dump_classifier_and_data(clf, my_dataset, features_list)"
   ]
  },
  {
   "cell_type": "code",
   "execution_count": null,
   "metadata": {
    "collapsed": true
   },
   "outputs": [],
   "source": []
  }
 ],
 "metadata": {
  "kernelspec": {
   "display_name": "Python 2",
   "language": "python",
   "name": "python2"
  },
  "language_info": {
   "codemirror_mode": {
    "name": "ipython",
    "version": 2
   },
   "file_extension": ".py",
   "mimetype": "text/x-python",
   "name": "python",
   "nbconvert_exporter": "python",
   "pygments_lexer": "ipython2",
   "version": "2.7.13"
  }
 },
 "nbformat": 4,
 "nbformat_minor": 2
}
