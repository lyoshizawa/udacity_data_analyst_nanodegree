{
 "cells": [
  {
   "cell_type": "code",
   "execution_count": 14,
   "metadata": {
    "collapsed": true
   },
   "outputs": [],
   "source": [
    "#!/usr/bin/python\n",
    "\n",
    "\"\"\" \n",
    "    Starter code for exploring the Enron dataset (emails + finances);\n",
    "    loads up the dataset (pickled dict of dicts).\n",
    "\n",
    "    The dataset has the form:\n",
    "    enron_data[\"LASTNAME FIRSTNAME MIDDLEINITIAL\"] = { features_dict }\n",
    "\n",
    "    {features_dict} is a dictionary of features associated with that person.\n",
    "    You should explore features_dict as part of the mini-project,\n",
    "    but here's an example to get you started:\n",
    "\n",
    "    enron_data[\"SKILLING JEFFREY K\"][\"bonus\"] = 5600000\n",
    "    \n",
    "\"\"\"\n",
    "\n",
    "import pickle\n",
    "\n",
    "enron_data = pickle.load(open(\"../final_project/final_project_dataset.pkl\", \"r\"))\n",
    "\n",
    "\n"
   ]
  },
  {
   "cell_type": "code",
   "execution_count": 15,
   "metadata": {},
   "outputs": [
    {
     "name": "stdout",
     "output_type": "stream",
     "text": [
      "146\n",
      "21\n"
     ]
    }
   ],
   "source": [
    "# Number of people in the enron dataset\n",
    "print (len(enron_data))\n",
    "\n",
    "# Number of features in the enron dataset\n",
    "for person, data in enron_data.iteritems():\n",
    "    print len(data)\n",
    "    break\n"
   ]
  },
  {
   "cell_type": "code",
   "execution_count": 16,
   "metadata": {},
   "outputs": [
    {
     "name": "stdout",
     "output_type": "stream",
     "text": [
      "18\n"
     ]
    }
   ],
   "source": [
    "# find the number of persons of interest in the dataset\n",
    "poi = 0\n",
    "for person, data in enron_data.iteritems():\n",
    "    for k, v in data.iteritems():\n",
    "        if k == 'poi' and v == True:\n",
    "            poi += 1\n",
    "print poi"
   ]
  },
  {
   "cell_type": "code",
   "execution_count": 17,
   "metadata": {},
   "outputs": [
    {
     "name": "stdout",
     "output_type": "stream",
     "text": [
      "35\n"
     ]
    }
   ],
   "source": [
    "# count number of persons of interest in the poi_names.txt file\n",
    "poi_file = \"../final_project/poi_names.txt\"\n",
    "poi_names = open(poi_file, 'r')\n",
    "poi_lines = poi_names.read().split('\\n')\n",
    "\n",
    "poi_count = 0\n",
    "for line in poi_lines:\n",
    "    if line.startswith('('):\n",
    "        poi_count += 1\n",
    "print poi_count"
   ]
  },
  {
   "cell_type": "code",
   "execution_count": 34,
   "metadata": {},
   "outputs": [
    {
     "name": "stdout",
     "output_type": "stream",
     "text": [
      "MCMAHON JEFFREY\n",
      "MCCARTY DANNY J\n",
      "MCCONNELL MICHAEL S\n",
      "MCDONALD REBECCA\n",
      "MCCLELLAN GEORGE\n"
     ]
    }
   ],
   "source": [
    "# search for a name within enron_data\n",
    "for person, data in enron_data.iteritems():\n",
    "    if person.startswith('MC'):\n",
    "        print person"
   ]
  },
  {
   "cell_type": "code",
   "execution_count": 19,
   "metadata": {},
   "outputs": [
    {
     "name": "stdout",
     "output_type": "stream",
     "text": [
      "salary\n",
      "to_messages\n",
      "deferral_payments\n",
      "total_payments\n",
      "exercised_stock_options\n",
      "bonus\n",
      "restricted_stock\n",
      "shared_receipt_with_poi\n",
      "restricted_stock_deferred\n",
      "total_stock_value\n",
      "expenses\n",
      "loan_advances\n",
      "from_messages\n",
      "other\n",
      "from_this_person_to_poi\n",
      "poi\n",
      "director_fees\n",
      "deferred_income\n",
      "long_term_incentive\n",
      "email_address\n",
      "from_poi_to_this_person\n"
     ]
    }
   ],
   "source": [
    "# find all features within the enron_data\n",
    "for person, data in enron_data.iteritems():\n",
    "    for k, v in data.iteritems():\n",
    "        print k\n",
    "    break"
   ]
  },
  {
   "cell_type": "code",
   "execution_count": 20,
   "metadata": {},
   "outputs": [
    {
     "data": {
      "text/plain": [
       "1095040"
      ]
     },
     "execution_count": 20,
     "metadata": {},
     "output_type": "execute_result"
    }
   ],
   "source": [
    "# find total stock value for James Prentice\n",
    "enron_data[\"PRENTICE JAMES\"][\"total_stock_value\"]"
   ]
  },
  {
   "cell_type": "code",
   "execution_count": 21,
   "metadata": {},
   "outputs": [
    {
     "data": {
      "text/plain": [
       "11"
      ]
     },
     "execution_count": 21,
     "metadata": {},
     "output_type": "execute_result"
    }
   ],
   "source": [
    "#find number of email messages from Wesley Colwell to Persons of Interest\n",
    "enron_data[\"COLWELL WESLEY\"][\"from_this_person_to_poi\"]"
   ]
  },
  {
   "cell_type": "code",
   "execution_count": 22,
   "metadata": {},
   "outputs": [
    {
     "data": {
      "text/plain": [
       "19250000"
      ]
     },
     "execution_count": 22,
     "metadata": {},
     "output_type": "execute_result"
    }
   ],
   "source": [
    "# find value of stock options by Jeffrey K Skilling\n",
    "enron_data[\"SKILLING JEFFREY K\"]['exercised_stock_options']"
   ]
  },
  {
   "cell_type": "code",
   "execution_count": 23,
   "metadata": {},
   "outputs": [
    {
     "name": "stdout",
     "output_type": "stream",
     "text": [
      "8682716\n",
      "103559793\n",
      "2424083\n"
     ]
    }
   ],
   "source": [
    "# find total payments for Lay, Skilling, and Fastow\n",
    "print (enron_data[\"SKILLING JEFFREY K\"]['total_payments'])\n",
    "print (enron_data[\"LAY KENNETH L\"]['total_payments'])\n",
    "print (enron_data[\"FASTOW ANDREW S\"]['total_payments'])"
   ]
  },
  {
   "cell_type": "code",
   "execution_count": 24,
   "metadata": {},
   "outputs": [
    {
     "name": "stdout",
     "output_type": "stream",
     "text": [
      "95\n",
      "111\n"
     ]
    }
   ],
   "source": [
    "# finding number of people with a known salary\n",
    "# finding number of people with a known email address\n",
    "num_salary = 0\n",
    "num_email = 0\n",
    "\n",
    "for person, data in enron_data.iteritems():\n",
    "    for k, v in data.iteritems():\n",
    "        if k == 'salary' and v != 'NaN':\n",
    "            num_salary += 1\n",
    "        if k == 'email_address' and v != 'NaN':\n",
    "            num_email += 1\n",
    "\n",
    "print (num_salary)\n",
    "print (num_email)\n",
    "            "
   ]
  },
  {
   "cell_type": "code",
   "execution_count": 25,
   "metadata": {},
   "outputs": [
    {
     "name": "stdout",
     "output_type": "stream",
     "text": [
      "21.0\n",
      "0.143835616438\n"
     ]
    }
   ],
   "source": [
    "# Number of people with 'NaN' as total payments\n",
    "\n",
    "nan_payments = float()\n",
    "\n",
    "for person, data in enron_data.iteritems():\n",
    "    for k, v in data.iteritems():\n",
    "        if k == 'total_payments' and v == 'NaN':\n",
    "            nan_payments += 1\n",
    "\n",
    "print (nan_payments)\n",
    "print (nan_payments / len(enron_data))"
   ]
  },
  {
   "cell_type": "code",
   "execution_count": 26,
   "metadata": {},
   "outputs": [
    {
     "name": "stdout",
     "output_type": "stream",
     "text": [
      "0.0\n"
     ]
    }
   ],
   "source": [
    "# Number of POIs in the dataset with NaN as total payments\n",
    "\n",
    "nan_poi = float()\n",
    "\n",
    "for person, data in enron_data.iteritems():\n",
    "    for k, v in data.iteritems():\n",
    "        if k=='poi' and v==True:\n",
    "            if k=='total_payments' and v=='NaN':\n",
    "                nan_poi += 1\n",
    "                \n",
    "print (nan_poi / poi_count)\n",
    "            "
   ]
  },
  {
   "cell_type": "code",
   "execution_count": 49,
   "metadata": {},
   "outputs": [
    {
     "name": "stdout",
     "output_type": "stream",
     "text": [
      "LAVORATO JOHN J  bonus:  8000000\n",
      "LAY KENNETH L  salary:  1072321\n",
      "LAY KENNETH L  bonus:  7000000\n",
      "BELDEN TIMOTHY N  bonus:  5249999\n",
      "SKILLING JEFFREY K  salary:  1111258\n",
      "SKILLING JEFFREY K  bonus:  5600000\n",
      "TOTAL  salary:  26704229\n",
      "TOTAL  bonus:  97343619\n",
      "FREVERT MARK A  salary:  1060932\n"
     ]
    }
   ],
   "source": [
    "# finding people by their salary/bonus\n",
    "\n",
    "max_bonus = 5000000\n",
    "max_salary = 1000000\n",
    "\n",
    "for person, data in enron_data.iteritems():\n",
    "    for k, v in data.iteritems():\n",
    "        if k == 'bonus' and v != 'NaN' and v > max_bonus:\n",
    "            #max_bonus = v\n",
    "            print person, \" bonus: \", v\n",
    "        if k == 'salary' and v != 'NaN' and v > max_salary:\n",
    "            print person, \" salary: \", v\n",
    "            \n",
    "        "
   ]
  },
  {
   "cell_type": "code",
   "execution_count": null,
   "metadata": {
    "collapsed": true
   },
   "outputs": [],
   "source": []
  }
 ],
 "metadata": {
  "kernelspec": {
   "display_name": "Python 2",
   "language": "python",
   "name": "python2"
  },
  "language_info": {
   "codemirror_mode": {
    "name": "ipython",
    "version": 2
   },
   "file_extension": ".py",
   "mimetype": "text/x-python",
   "name": "python",
   "nbconvert_exporter": "python",
   "pygments_lexer": "ipython2",
   "version": "2.7.13"
  }
 },
 "nbformat": 4,
 "nbformat_minor": 2
}
